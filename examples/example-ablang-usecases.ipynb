{
 "cells": [
  {
   "cell_type": "markdown",
   "id": "8e8ebc9e-dbf6-4e67-8af6-937ddb22f219",
   "metadata": {},
   "source": [
    "# **AbLang Examples**\n",
    "\n",
    "AbLang is a BERT inspired language model trained on antibody sequences. The following is a set of possible use cases of AbLang."
   ]
  },
  {
   "cell_type": "code",
   "execution_count": 2,
   "id": "c5fce402-fa18-47ea-b39f-1ab7ec8d5490",
   "metadata": {},
   "outputs": [],
   "source": [
    "import ablang"
   ]
  },
  {
   "cell_type": "code",
   "execution_count": 3,
   "id": "45dc6fac-2d5a-414a-a2f5-030bf042ccb7",
   "metadata": {
    "tags": []
   },
   "outputs": [],
   "source": [
    "heavy_ablang = ablang.pretrained(\"heavy\")\n",
    "heavy_ablang.freeze()"
   ]
  },
  {
   "cell_type": "markdown",
   "id": "252f2b71-9bfb-4b2c-bf80-f1a114837352",
   "metadata": {},
   "source": [
    "-----\n",
    "## **Res-codings**\n",
    "\n",
    "The res-codings are the 768 values for each residue, describing both a residue's individual properties (e.g. size, hydrophobicity, etc.) and properties in relation to the rest of the sequence (e.g. secondary structure, position, etc.). \n",
    "\n",
    "To calculate the res-codings, you can use the mode \"rescoding\" as seen below. "
   ]
  },
  {
   "cell_type": "code",
   "execution_count": 3,
   "id": "066d0eef-fdb6-4900-92b7-6b0e40c2901f",
   "metadata": {},
   "outputs": [
    {
     "name": "stdout",
     "output_type": "stream",
     "text": [
      "[array([[-0.00730008,  0.91194767,  0.3939439 , ...,  1.0638115 ,\n",
      "        -0.10272609,  3.037028  ],\n",
      "       [-0.17044747, -0.30755213, -0.18925896, ...,  0.04447161,\n",
      "        -1.1808295 ,  0.94428295],\n",
      "       [-2.0137024 , -1.1266947 , -0.27024856, ..., -1.8903985 ,\n",
      "        -0.28660882,  0.9681646 ],\n",
      "       ...,\n",
      "       [-0.84313226, -0.32336968, -1.4710451 , ..., -0.2604175 ,\n",
      "         0.7543702 ,  1.1806058 ],\n",
      "       [-1.4264785 ,  1.7326759 , -2.7284472 , ...,  0.32516527,\n",
      "         0.8509197 ,  0.31742918],\n",
      "       [-1.2367766 ,  0.9761213 , -2.582772  , ...,  0.6223901 ,\n",
      "         1.1142057 , -0.5260258 ]], dtype=float32), array([[-0.36770657,  0.16453761,  0.29815987, ...,  1.3162804 ,\n",
      "         1.3902713 ,  1.3971791 ],\n",
      "       [-0.01045511,  0.70775384,  0.6299132 , ...,  0.911532  ,\n",
      "        -0.27585816,  0.5337534 ],\n",
      "       [-2.359949  , -0.8066429 ,  0.23082013, ..., -0.9835925 ,\n",
      "         0.07312769,  0.14750186],\n",
      "       ...,\n",
      "       [-0.594226  , -0.1477494 , -0.59627694, ...,  1.1833943 ,\n",
      "         0.7657585 ,  0.8867822 ],\n",
      "       [ 0.01091856,  1.7039386 , -2.154741  , ...,  0.92535996,\n",
      "         1.5240736 ,  0.40073177],\n",
      "       [-0.9343864 ,  1.538251  , -1.796135  , ...,  1.3869253 ,\n",
      "         2.3943288 ,  0.25024128]], dtype=float32)]\n",
      "The shape of the output of a single sequence: (121, 768)\n",
      "[array([[-0.00730008,  0.91194767,  0.3939439 , ...,  1.0638115 ,\n",
      "        -0.10272609,  3.037028  ],\n",
      "       [-0.17044747, -0.30755213, -0.18925896, ...,  0.04447161,\n",
      "        -1.1808295 ,  0.94428295],\n",
      "       [-2.0137024 , -1.1266947 , -0.27024856, ..., -1.8903985 ,\n",
      "        -0.28660882,  0.9681646 ],\n",
      "       ...,\n",
      "       [-0.84313226, -0.32336968, -1.4710451 , ..., -0.2604175 ,\n",
      "         0.7543702 ,  1.1806058 ],\n",
      "       [-1.4264785 ,  1.7326759 , -2.7284472 , ...,  0.32516527,\n",
      "         0.8509197 ,  0.31742918],\n",
      "       [-1.2367766 ,  0.9761213 , -2.582772  , ...,  0.6223901 ,\n",
      "         1.1142057 , -0.5260258 ]], dtype=float32), array([[-0.36770657,  0.16453761,  0.29815987, ...,  1.3162804 ,\n",
      "         1.3902713 ,  1.3971791 ],\n",
      "       [-0.01045511,  0.70775384,  0.6299132 , ...,  0.911532  ,\n",
      "        -0.27585816,  0.5337534 ],\n",
      "       [-2.359949  , -0.8066429 ,  0.23082013, ..., -0.9835925 ,\n",
      "         0.07312769,  0.14750186],\n",
      "       ...,\n",
      "       [-0.594226  , -0.1477494 , -0.59627694, ...,  1.1833943 ,\n",
      "         0.7657585 ,  0.8867822 ],\n",
      "       [ 0.01091856,  1.7039386 , -2.154741  , ...,  0.92535996,\n",
      "         1.5240736 ,  0.40073177],\n",
      "       [-0.9343864 ,  1.538251  , -1.796135  , ...,  1.3869253 ,\n",
      "         2.3943288 ,  0.25024128]], dtype=float32)]\n"
     ]
    }
   ],
   "source": [
    "seqs = [\n",
    "    'EVQLVESGPGLVQPGKSLRLSCVASGFTFSGYGMHWVRQAPGKGLEWIALIIYDESNKYYADSVKGRFTISRDNSKNTLYLQMSSLRAEDTAVFYCAKVKFYDPTAPNDYWGQGTLVTVSS',\n",
    "    'QVQLVQSGAEVKKPGASVKVSCKASGYTFTSYGISWVRQAPGQGLEWMGWISAYNGNTNYAQKLQGRVTMTTDTSTSTAYMELRSLRSDDTAVYYCARVLGWGSMDVWGQGTTVTVSS'\n",
    "    ]\n",
    "\n",
    "rescodings = heavy_ablang(seqs, mode='rescoding')\n",
    "\n",
    "print(rescodings)\n",
    "\n",
    "print(\"The shape of the output of a single sequence:\", rescodings[0].shape)\n",
    "print(rescodings)"
   ]
  },
  {
   "cell_type": "markdown",
   "id": "6af70ad5-d227-44d5-ac75-9cdfe1e38801",
   "metadata": {},
   "source": [
    "---- \n",
    "An additional feature, is the ability to align the rescodings. This can be done by setting the parameter align to \"True\". \n",
    "\n",
    "**NB:** You need to install anarci and pandas for this feature."
   ]
  },
  {
   "cell_type": "code",
   "execution_count": 4,
   "id": "64e058a5-0036-47f7-aac2-5a4835cec3c5",
   "metadata": {},
   "outputs": [
    {
     "name": "stdout",
     "output_type": "stream",
     "text": [
      "The shape of the output: (2, 129, 769)\n",
      "[[[-0.0073000784032046795 0.9119476675987244 0.3939439058303833 ...\n",
      "   -0.10272609442472458 3.0370280742645264 'E']\n",
      "  [-0.1704474687576294 -0.30755212903022766 -0.18925896286964417 ...\n",
      "   -1.1808295249938965 0.9442829489707947 'V']\n",
      "  [-2.013702392578125 -1.126694679260254 -0.27024856209754944 ...\n",
      "   -0.28660881519317627 0.9681646227836609 'Q']\n",
      "  ...\n",
      "  [-0.8431322574615479 -0.32336968183517456 -1.4710451364517212 ...\n",
      "   0.7543702125549316 1.1806057691574097 'V']\n",
      "  [-1.4264785051345825 1.7326759099960327 -2.728447198867798 ...\n",
      "   0.8509197235107422 0.31742918491363525 'S']\n",
      "  [-1.23677659034729 0.9761213064193726 -2.5827720165252686 ...\n",
      "   1.1142057180404663 -0.5260257720947266 'S']]\n",
      "\n",
      " [[-0.3677065670490265 0.16453760862350464 0.2981598675251007 ...\n",
      "   1.3902713060379028 1.397179126739502 'Q']\n",
      "  [-0.010455112904310226 0.7077538371086121 0.6299132108688354 ...\n",
      "   -0.27585816383361816 0.5337533950805664 'V']\n",
      "  [-2.3599491119384766 -0.8066428899765015 0.23082013428211212 ...\n",
      "   0.07312768697738647 0.1475018560886383 'Q']\n",
      "  ...\n",
      "  [-0.5942260026931763 -0.1477493941783905 -0.5962769389152527 ...\n",
      "   0.7657585144042969 0.8867822289466858 'V']\n",
      "  [0.01091856136918068 1.703938603401184 -2.154741048812866 ...\n",
      "   1.524073600769043 0.40073177218437195 'S']\n",
      "  [-0.9343863725662231 1.5382510423660278 -1.7961349487304688 ...\n",
      "   2.3943288326263428 0.2502412796020508 'S']]]\n",
      "['1 ' '2 ' '3 ' '4 ' '5 ' '6 ' '7 ' '8 ' '9 ' '10 ' '11 ' '12 ' '13 '\n",
      " '14 ' '15 ' '16 ' '17 ' '18 ' '19 ' '20 ' '21 ' '22 ' '23 ' '24 ' '25 '\n",
      " '26 ' '27 ' '28 ' '29 ' '30 ' '31 ' '32 ' '33 ' '34 ' '35 ' '36 ' '37 '\n",
      " '38 ' '39 ' '40 ' '41 ' '42 ' '43 ' '44 ' '45 ' '46 ' '47 ' '48 ' '49 '\n",
      " '50 ' '51 ' '52 ' '53 ' '54 ' '55 ' '56 ' '57 ' '58 ' '59 ' '60 ' '61 '\n",
      " '62 ' '63 ' '64 ' '65 ' '66 ' '67 ' '68 ' '69 ' '70 ' '71 ' '72 ' '73 '\n",
      " '74 ' '75 ' '76 ' '77 ' '78 ' '79 ' '80 ' '81 ' '82 ' '83 ' '84 ' '85 '\n",
      " '86 ' '87 ' '88 ' '89 ' '90 ' '91 ' '92 ' '93 ' '94 ' '95 ' '96 ' '97 '\n",
      " '98 ' '99 ' '100 ' '101 ' '102 ' '103 ' '104 ' '105 ' '106 ' '107 '\n",
      " '108 ' '109 ' '110 ' '111 ' '112A' '112 ' '113 ' '114 ' '115 ' '116 '\n",
      " '117 ' '118 ' '119 ' '120 ' '121 ' '122 ' '123 ' '124 ' '125 ' '126 '\n",
      " '127 ' '128 ']\n"
     ]
    }
   ],
   "source": [
    "seqs = [\n",
    "    'EVQLVESGPGLVQPGKSLRLSCVASGFTFSGYGMHWVRQAPGKGLEWIALIIYDESNKYYADSVKGRFTISRDNSKNTLYLQMSSLRAEDTAVFYCAKVKFYDPTAPNDYWGQGTLVTVSS',\n",
    "    'QVQLVQSGAEVKKPGASVKVSCKASGYTFTSYGISWVRQAPGQGLEWMGWISAYNGNTNYAQKLQGRVTMTTDTSTSTAYMELRSLRSDDTAVYYCARVLGWGSMDVWGQGTTVTVSS'\n",
    "    ]\n",
    "\n",
    "rescodings = heavy_ablang(seqs, mode='rescoding', align=True)\n",
    "\n",
    "print(\"The shape of the output:\", rescodings[0].aligned_embeds.shape)\n",
    "print(rescodings[0].aligned_embeds)\n",
    "print(rescodings[0].number_alignment)"
   ]
  },
  {
   "cell_type": "markdown",
   "id": "d6450ffe-656e-45d7-979a-cac5694249ea",
   "metadata": {},
   "source": [
    "---------\n",
    "## **Seq-codings**\n",
    "\n",
    "Seq-codings are a set of 768 values for each sequences, derived from averaging across the res-codings. Seq-codings allow one to avoid sequence alignments, as every antibody sequence, regardless of their length, will be represented with 768 values. "
   ]
  },
  {
   "cell_type": "code",
   "execution_count": 5,
   "id": "2948c411-8b5e-41fe-86bc-1c22969ce8e7",
   "metadata": {},
   "outputs": [
    {
     "name": "stdout",
     "output_type": "stream",
     "text": [
      "The shape of the output: (2, 768)\n",
      "[[-0.66159577  0.13918797 -0.97155634 ... -0.94305359  0.11071627\n",
      "   0.72706922]\n",
      " [-0.48282028  0.16598191 -0.56525127 ...  0.13565185  0.08519978\n",
      "   0.8019654 ]]\n"
     ]
    }
   ],
   "source": [
    "seqs = [\n",
    "    'EVQLVESGPGLVQPGKSLRLSCVASGFTFSGYGMHWVRQAPGKGLEWIALIIYDESNKYYADSVKGRFTISRDNSKNTLYLQMSSLRAEDTAVFYCAKVKFYDPTAPNDYWGQGTLVTVSS',\n",
    "    'QVQLVQSGAEVKKPGASVKVSCKASGYTFTSYGISWVRQAPGQGLEWMGWISAYNGNTNYAQKLQGRVTMTTDTSTSTAYMELRSLRSDDTAVYYCARVLGWGSMDVWGQGTTVTVSS'\n",
    "    ]\n",
    "\n",
    "seqcodings = heavy_ablang(seqs, mode='seqcoding')\n",
    "print(\"The shape of the output:\", seqcodings.shape)\n",
    "print(seqcodings)"
   ]
  },
  {
   "cell_type": "markdown",
   "id": "3b894760-444b-459b-9d61-1626e85d9777",
   "metadata": {},
   "source": [
    "-----\n",
    "## **Residue likelihood**\n",
    "\n",
    "Res- and seq-codings are both derived from the representations created by AbRep. Another interesting representation are the likelihoods created by AbHead. These values are the likelihoods of each amino acids at each position in the sequence. These can be used to explore which amino acids are most likely to be mutated into and thereby explore the mutational space.\n",
    "\n",
    "**NB:** Currently, the likelihoods includes the start and end tokens and padding."
   ]
  },
  {
   "cell_type": "code",
   "execution_count": 6,
   "id": "a32b9b0c-df44-44b4-9492-b3b2bcd3abcc",
   "metadata": {},
   "outputs": [
    {
     "name": "stdout",
     "output_type": "stream",
     "text": [
      "The shape of the output: (2, 123, 20)\n",
      "[[[-0.11498569  1.1179823   1.1934892  ...  0.45755526 -0.7284867\n",
      "   -3.0680373 ]\n",
      "  [-2.4648163  -1.9716133   3.3576705  ... -2.3272207  -1.1907938\n",
      "   -4.0330467 ]\n",
      "  [ 2.9314635  -2.1880107  -3.6571255  ... -2.2125928  -2.5663297\n",
      "    1.6678782 ]\n",
      "  ...\n",
      "  [-5.8459177  -3.4050395  -1.5790601  ...  1.7031232  -4.0640826\n",
      "   -1.3621796 ]\n",
      "  [-6.0580077  -2.5351663  -3.9164515  ... -1.8216588  -3.626708\n",
      "   -2.031465  ]\n",
      "  [ 2.3581345  -0.06876329  1.9812675  ... -2.0339167  -1.4751202\n",
      "   -1.2847607 ]]\n",
      "\n",
      " [[ 2.7258344   0.6690306  -0.5187323  ... -0.5095991  -1.5229932\n",
      "   -1.0047419 ]\n",
      "  [-1.2000118   0.7463538   4.91817    ... -2.7072291  -0.76294655\n",
      "   -1.1908679 ]\n",
      "  [ 3.7377117  -3.5336478  -4.2123528  ... -3.504032   -1.6032335\n",
      "    1.0644858 ]\n",
      "  ...\n",
      "  [-0.45430183  3.8572206  -3.0571616  ... -2.6384842  -4.9668417\n",
      "   -3.8441541 ]\n",
      "  [-0.45430183  3.8572206  -3.0571616  ... -2.6384842  -4.9668417\n",
      "   -3.8441541 ]\n",
      "  [-0.4543      3.857221   -3.0571606  ... -2.6384845  -4.966839\n",
      "   -3.8441534 ]]]\n"
     ]
    }
   ],
   "source": [
    "seqs = [\n",
    "    'EVQLVESGPGLVQPGKSLRLSCVASGFTFSGYGMHWVRQAPGKGLEWIALIIYDESNKYYADSVKGRFTISRDNSKNTLYLQMSSLRAEDTAVFYCAKVKFYDPTAPNDYWGQGTLVTVSS',\n",
    "    'QVQLVQSGAEVKKPGASVKVSCKASGYTFTSYGISWVRQAPGQGLEWMGWISAYNGNTNYAQKLQGRVTMTTDTSTSTAYMELRSLRSDDTAVYYCARVLGWGSMDVWGQGTTVTVSS'\n",
    "    ]\n",
    "\n",
    "likelihoods = heavy_ablang(seqs, mode='likelihood')\n",
    "print(\"The shape of the output:\", likelihoods.shape)\n",
    "print(likelihoods)"
   ]
  },
  {
   "cell_type": "markdown",
   "id": "bbae47e3-a538-4acb-9dec-4cd5888eead3",
   "metadata": {},
   "source": [
    "-----\n",
    "## **Antibody sequence restoration**\n",
    "\n",
    "In some cases, an antibody sequence is missing some residues. This could be derived from sequencing errors or limitations of current sequencing methods. To solve this AbLang has the \"restore\" mode, as seen below, which picks the amino acid with the highest likelihood for residues marked with an asterisk (*). "
   ]
  },
  {
   "cell_type": "code",
   "execution_count": 4,
   "id": "9ae30059-650a-4b18-b98f-b29d511420ec",
   "metadata": {},
   "outputs": [
    {
     "data": {
      "text/plain": [
       "array(['EVQLVESGPGLVQPGKSLRLSCVASGFTFSGYGMHWVRQAPGKGLEWIALIIYDESNKYYADSVKGRFTISRDNSKNTLYLQMSSLRAEDTAVFYCAKVKFYDPTAPNDYWGQGTLVTVSS',\n",
       "       'QVQLVESGGGVVQPGKSLRLSCVASGFTFSGYGMHWVRQAPGKGLEWIALIIYDESNKYYADSVKGRFTISRDNSKNTLYLQMSSLRAEDTAVFYCAKVKFYDPTAPNDYWGQGTLVTVSS'],\n",
       "      dtype='<U121')"
      ]
     },
     "execution_count": 4,
     "metadata": {},
     "output_type": "execute_result"
    }
   ],
   "source": [
    "seqs = [\n",
    "    'EV*LVESGPGLVQPGKSLRLSCVASGFTFSGYGMHWVRQAPGKGLEWIALIIYDESNKYYADSVKGRFTISRDNSKNTLYLQMSSLRAEDTAVFYCAKVKFYDPTAPNDYWGQGTLVTVSS',\n",
    "    '*************PGKSLRLSCVASGFTFSGYGMHWVRQAPGKGLEWIALIIYDESNK*YADSVKGRFTISRDNSKNTLYLQMSSLRAEDTAVFYCAKVKFYDPTAPNDYWGQGTLVT***',\n",
    "]\n",
    "\n",
    "heavy_ablang(seqs, mode='restore')"
   ]
  }
 ],
 "metadata": {
  "kernelspec": {
   "display_name": "ablang-test",
   "language": "python",
   "name": "ablang-test"
  },
  "language_info": {
   "codemirror_mode": {
    "name": "ipython",
    "version": 3
   },
   "file_extension": ".py",
   "mimetype": "text/x-python",
   "name": "python",
   "nbconvert_exporter": "python",
   "pygments_lexer": "ipython3",
   "version": "3.8.0"
  }
 },
 "nbformat": 4,
 "nbformat_minor": 5
}
