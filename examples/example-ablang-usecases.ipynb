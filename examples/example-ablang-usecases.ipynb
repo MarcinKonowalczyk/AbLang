{
 "cells": [
  {
   "cell_type": "markdown",
   "id": "8e8ebc9e-dbf6-4e67-8af6-937ddb22f219",
   "metadata": {},
   "source": [
    "# **AbLang Examples**\n",
    "\n",
    "AbLang is a RoBERTa inspired language model trained on antibody sequences. The following is a set of possible use cases of AbLang."
   ]
  },
  {
   "cell_type": "code",
   "execution_count": 1,
   "id": "c5fce402-fa18-47ea-b39f-1ab7ec8d5490",
   "metadata": {},
   "outputs": [],
   "source": [
    "import ablang"
   ]
  },
  {
   "cell_type": "code",
   "execution_count": 2,
   "id": "45dc6fac-2d5a-414a-a2f5-030bf042ccb7",
   "metadata": {
    "tags": []
   },
   "outputs": [],
   "source": [
    "heavy_ablang = ablang.pretrained(\"heavy\")\n",
    "heavy_ablang.freeze()"
   ]
  },
  {
   "cell_type": "markdown",
   "id": "e573bb75-4a20-4c5b-ab26-ebc7fc7d04d3",
   "metadata": {},
   "source": [
    "--------------\n",
    "## **AbLang building blocks**\n",
    "\n",
    "For easy use we have build the AbLang module (see below), however; for incoorporating AbLang into personal codebases it might be more convenient to use the individual building blocks."
   ]
  },
  {
   "cell_type": "markdown",
   "id": "7a52d4ee-ff89-4341-b6de-0513051b6b9c",
   "metadata": {},
   "source": [
    "#### AbLang tokenizer"
   ]
  },
  {
   "cell_type": "code",
   "execution_count": 3,
   "id": "91e8ecd3-1441-4d0d-ad2f-06212cbc5537",
   "metadata": {},
   "outputs": [
    {
     "data": {
      "text/plain": [
       "tensor([[ 0,  6, 15, 10, 20, 15,  6,  7, 12, 13, 12, 20, 15, 10, 13, 12,  4,  7,\n",
       "         20,  2, 20,  7, 11, 15, 14,  7, 12, 17,  8, 17,  7, 12, 18, 12,  1,  3,\n",
       "         19, 15,  2, 10, 14, 13, 12,  4, 12, 20,  6, 19, 16, 14, 20, 16, 16, 18,\n",
       "          5,  6,  7,  9,  4, 18, 18, 14,  5,  7, 15,  4, 12,  2, 17,  8, 16,  7,\n",
       "          2,  5,  9,  7,  4,  9,  8, 20, 18, 20, 10,  1,  7,  7, 20,  2, 14,  6,\n",
       "          5,  8, 14, 15, 17, 18, 11, 14,  4, 15,  4, 17, 18,  5, 13,  8, 14, 13,\n",
       "          9,  5, 18, 19, 12, 10, 12,  8, 20, 15,  8, 15,  7,  7, 22],\n",
       "        [ 0, 10, 15, 10, 20, 15, 10,  7, 12, 14,  6, 15,  4,  4, 13, 12, 14,  7,\n",
       "         15,  4, 15,  7, 11,  4, 14,  7, 12, 18,  8, 17,  8,  7, 18, 12, 16,  7,\n",
       "         19, 15,  2, 10, 14, 13, 12, 10, 12, 20,  6, 19,  1, 12, 19, 16,  7, 14,\n",
       "         18,  9, 12,  9,  8,  9, 18, 14, 10,  4, 20, 10, 12,  2, 15,  8,  1,  8,\n",
       "          8,  5,  8,  7,  8,  7,  8, 14, 18,  1,  6, 20,  2,  7, 20,  2,  7,  5,\n",
       "          5,  8, 14, 15, 18, 18, 11, 14,  2, 15, 20, 12, 19, 12,  7,  1,  5, 15,\n",
       "         19, 12, 10, 12,  8,  8, 15,  8, 15,  7,  7, 22, 21, 21, 21]])"
      ]
     },
     "execution_count": 3,
     "metadata": {},
     "output_type": "execute_result"
    }
   ],
   "source": [
    "seqs = [\n",
    "    'EVQLVESGPGLVQPGKSLRLSCVASGFTFSGYGMHWVRQAPGKGLEWIALIIYDESNKYYADSVKGRFTISRDNSKNTLYLQMSSLRAEDTAVFYCAKVKFYDPTAPNDYWGQGTLVTVSS',\n",
    "    'QVQLVQSGAEVKKPGASVKVSCKASGYTFTSYGISWVRQAPGQGLEWMGWISAYNGNTNYAQKLQGRVTMTTDTSTSTAYMELRSLRSDDTAVYYCARVLGWGSMDVWGQGTTVTVSS'\n",
    "    ]\n",
    "\n",
    "tokens = heavy_ablang.tokenizer(seqs, pad=True)\n",
    "tokens"
   ]
  },
  {
   "cell_type": "markdown",
   "id": "d8378ba4-2847-4982-b47a-4111f77032a5",
   "metadata": {
    "tags": []
   },
   "source": [
    "#### AbLang encoder (AbRep)"
   ]
  },
  {
   "cell_type": "code",
   "execution_count": 4,
   "id": "062ba27c-74e8-4fcd-96fa-b4db51db3e5f",
   "metadata": {},
   "outputs": [
    {
     "data": {
      "text/plain": [
       "AbRepOutput(last_hidden_states=tensor([[[ 0.3613, -0.5545, -1.3733,  ...,  0.7854,  1.0435,  1.4019],\n",
       "         [-0.0073,  0.9119,  0.3939,  ...,  1.0638, -0.1027,  3.0370],\n",
       "         [-0.1704, -0.3076, -0.1893,  ...,  0.0445, -1.1808,  0.9443],\n",
       "         ...,\n",
       "         [-1.4265,  1.7327, -2.7284,  ...,  0.3252,  0.8509,  0.3174],\n",
       "         [-1.2368,  0.9761, -2.5828,  ...,  0.6224,  1.1142, -0.5260],\n",
       "         [-0.5692, -0.2824, -1.0787,  ..., -1.4483,  1.0727,  0.8714]],\n",
       "\n",
       "        [[ 0.9622,  0.1451, -1.3975,  ...,  1.1158,  0.9947,  0.9987],\n",
       "         [-0.3677,  0.1645,  0.2982,  ...,  1.3163,  1.3903,  1.3972],\n",
       "         [-0.0105,  0.7078,  0.6299,  ...,  0.9115, -0.2759,  0.5338],\n",
       "         ...,\n",
       "         [-1.6057,  0.6062, -0.0898,  ..., -0.0652,  0.2848,  1.1870],\n",
       "         [-1.6057,  0.6062, -0.0898,  ..., -0.0652,  0.2848,  1.1870],\n",
       "         [-1.6057,  0.6062, -0.0898,  ..., -0.0652,  0.2848,  1.1870]]],\n",
       "       grad_fn=<NativeLayerNormBackward0>), all_hidden_states=None, attentions=None)"
      ]
     },
     "execution_count": 4,
     "metadata": {},
     "output_type": "execute_result"
    }
   ],
   "source": [
    "rescodings = heavy_ablang.AbRep(tokens)\n",
    "rescodings"
   ]
  },
  {
   "cell_type": "markdown",
   "id": "f4aeda99-fe47-4c83-ab0e-3fd749c974c6",
   "metadata": {},
   "source": [
    "#### AbLang full model (AbRep+AbHead)"
   ]
  },
  {
   "cell_type": "code",
   "execution_count": 5,
   "id": "354f32d5-71e7-4484-89be-2749e9623dd4",
   "metadata": {},
   "outputs": [
    {
     "data": {
      "text/plain": [
       "tensor([[[ 26.2209,  -0.1150,   1.1180,  ...,   7.1572,   8.2511,   7.0621],\n",
       "         [ -3.2988,  -2.4648,  -1.9716,  ...,  -3.6925,  -2.8412,  -3.9486],\n",
       "         [-13.8630,   2.9315,  -2.1880,  ..., -12.2973, -11.4024, -12.1913],\n",
       "         ...,\n",
       "         [-13.3679,  -5.8459,  -3.4050,  ..., -13.6232, -12.3902, -13.7758],\n",
       "         [-14.0443,  -6.0580,  -2.5352,  ..., -14.2198, -11.2575, -14.2093],\n",
       "         [  4.2206,   2.3581,  -0.0688,  ...,   5.4753,  28.2524,   5.1772]],\n",
       "\n",
       "        [[ 26.0735,   2.7258,   0.6690,  ...,   5.0711,   4.7992,   5.3501],\n",
       "         [ -3.1518,  -1.2000,   0.7464,  ...,  -3.9869,  -5.1648,  -4.0318],\n",
       "         [-12.9766,   3.7377,  -3.5336,  ..., -11.4977, -11.5676, -11.5029],\n",
       "         ...,\n",
       "         [-10.0570,  -0.4543,   3.8572,  ..., -11.4345, -10.0851, -11.4500],\n",
       "         [-10.0570,  -0.4543,   3.8572,  ..., -11.4345, -10.0851, -11.4500],\n",
       "         [-10.0570,  -0.4543,   3.8572,  ..., -11.4345, -10.0851, -11.4500]]],\n",
       "       grad_fn=<ViewBackward0>)"
      ]
     },
     "execution_count": 5,
     "metadata": {},
     "output_type": "execute_result"
    }
   ],
   "source": [
    "likelihoods = heavy_ablang.AbLang(tokens)\n",
    "likelihoods"
   ]
  },
  {
   "cell_type": "markdown",
   "id": "252f2b71-9bfb-4b2c-bf80-f1a114837352",
   "metadata": {},
   "source": [
    "-----\n",
    "## **AbLang module: Res-codings**\n",
    "\n",
    "The res-codings are the 768 values for each residue, describing both a residue's individual properties (e.g. size, hydrophobicity, etc.) and properties in relation to the rest of the sequence (e.g. secondary structure, position, etc.). \n",
    "\n",
    "To calculate the res-codings, you can use the mode \"rescoding\" as seen below. "
   ]
  },
  {
   "cell_type": "code",
   "execution_count": 6,
   "id": "066d0eef-fdb6-4900-92b7-6b0e40c2901f",
   "metadata": {},
   "outputs": [
    {
     "name": "stdout",
     "output_type": "stream",
     "text": [
      "----------------------------------------------------------------------------------------------------\n",
      "The output shape of a single sequence: (121, 768)\n",
      "This shape is different for each sequence, depending on their length.\n",
      "----------------------------------------------------------------------------------------------------\n",
      "[array([[-0.00730015,  0.911948  ,  0.3939441 , ...,  1.0638114 ,\n",
      "        -0.10272545,  3.037028  ],\n",
      "       [-0.17044666, -0.307552  , -0.18925877, ...,  0.04447165,\n",
      "        -1.1808295 ,  0.9442834 ],\n",
      "       [-2.013703  , -1.1266949 , -0.27024814, ..., -1.8903987 ,\n",
      "        -0.28660858,  0.9681651 ],\n",
      "       ...,\n",
      "       [-0.8431327 , -0.3233702 , -1.4710448 , ..., -0.26041767,\n",
      "         0.75437   ,  1.1806053 ],\n",
      "       [-1.4264786 ,  1.7326753 , -2.728447  , ...,  0.32516536,\n",
      "         0.85092   ,  0.3174294 ],\n",
      "       [-1.2367772 ,  0.97612107, -2.5827718 , ...,  0.62239   ,\n",
      "         1.1142055 , -0.5260254 ]], dtype=float32), array([[-0.36770692,  0.1645376 ,  0.29816028, ...,  1.3162807 ,\n",
      "         1.3902714 ,  1.3971792 ],\n",
      "       [-0.01045521,  0.70775384,  0.62991333, ...,  0.91153216,\n",
      "        -0.27585807,  0.5337539 ],\n",
      "       [-2.3599489 , -0.80664307,  0.23082013, ..., -0.9835928 ,\n",
      "         0.07312784,  0.14750193],\n",
      "       ...,\n",
      "       [-0.5942263 , -0.14774933, -0.5962769 , ...,  1.1833943 ,\n",
      "         0.7657586 ,  0.886782  ],\n",
      "       [ 0.01091865,  1.7039382 , -2.154741  , ...,  0.92535996,\n",
      "         1.5240734 ,  0.40073124],\n",
      "       [-0.9343862 ,  1.538251  , -1.7961348 , ...,  1.386925  ,\n",
      "         2.3943295 ,  0.25024125]], dtype=float32)]\n"
     ]
    }
   ],
   "source": [
    "seqs = [\n",
    "    'EVQLVESGPGLVQPGKSLRLSCVASGFTFSGYGMHWVRQAPGKGLEWIALIIYDESNKYYADSVKGRFTISRDNSKNTLYLQMSSLRAEDTAVFYCAKVKFYDPTAPNDYWGQGTLVTVSS',\n",
    "    'QVQLVQSGAEVKKPGASVKVSCKASGYTFTSYGISWVRQAPGQGLEWMGWISAYNGNTNYAQKLQGRVTMTTDTSTSTAYMELRSLRSDDTAVYYCARVLGWGSMDVWGQGTTVTVSS'\n",
    "    ]\n",
    "\n",
    "rescodings = heavy_ablang(seqs, mode='rescoding')\n",
    "\n",
    "print(\"-\"*100)\n",
    "print(\"The output shape of a single sequence:\", rescodings[0].shape)\n",
    "print(\"This shape is different for each sequence, depending on their length.\")\n",
    "print(\"-\"*100)\n",
    "print(rescodings)"
   ]
  },
  {
   "cell_type": "markdown",
   "id": "6af70ad5-d227-44d5-ac75-9cdfe1e38801",
   "metadata": {},
   "source": [
    "---- \n",
    "An additional feature, is the ability to align the rescodings. This can be done by setting the parameter align to \"True\". \n",
    "\n",
    "Alignment is done by numbering with anarci and then aligning sequences to all unique numberings found in input antibody sequences.\n",
    "\n",
    "**NB:** You need to install anarci and pandas for this feature."
   ]
  },
  {
   "cell_type": "code",
   "execution_count": 7,
   "id": "64e058a5-0036-47f7-aac2-5a4835cec3c5",
   "metadata": {},
   "outputs": [
    {
     "name": "stdout",
     "output_type": "stream",
     "text": [
      "----------------------------------------------------------------------------------------------------\n",
      "The output shape for the aligned sequences ('aligned_embeds'): (2, 129, 769)\n",
      "This output also includes this numberings ('number_alignment') used for this set of sequences.\n",
      "----------------------------------------------------------------------------------------------------\n",
      "[[[-0.007300154771655798 0.911948025226593 0.39394411444664 ...\n",
      "   -0.10272544622421265 3.0370280742645264 'E']\n",
      "  [-0.17044666409492493 -0.3075520098209381 -0.18925876915454865 ...\n",
      "   -1.1808295249938965 0.9442834258079529 'V']\n",
      "  [-2.0137031078338623 -1.126694917678833 -0.270248144865036 ...\n",
      "   -0.28660857677459717 0.9681650996208191 'Q']\n",
      "  ...\n",
      "  [-0.8431326746940613 -0.32337018847465515 -1.4710447788238525 ...\n",
      "   0.7543699741363525 1.1806052923202515 'V']\n",
      "  [-1.426478624343872 1.732675313949585 -2.7284469604492188 ...\n",
      "   0.8509200215339661 0.31742939352989197 'S']\n",
      "  [-1.2367771863937378 0.9761210680007935 -2.5827717781066895 ...\n",
      "   1.1142054796218872 -0.5260254144668579 'S']]\n",
      "\n",
      " [[-0.36770692467689514 0.16453759372234344 0.29816028475761414 ...\n",
      "   1.3902714252471924 1.3971792459487915 'Q']\n",
      "  [-0.010455209761857986 0.7077538371086121 0.629913330078125 ...\n",
      "   -0.275858074426651 0.5337538719177246 'V']\n",
      "  [-2.3599488735198975 -0.8066430687904358 0.23082013428211212 ...\n",
      "   0.07312783598899841 0.14750193059444427 'Q']\n",
      "  ...\n",
      "  [-0.5942263007164001 -0.14774933457374573 -0.5962768793106079 ...\n",
      "   0.7657585740089417 0.8867819905281067 'V']\n",
      "  [0.010918650776147842 1.7039382457733154 -2.154741048812866 ...\n",
      "   1.5240733623504639 0.40073123574256897 'S']\n",
      "  [-0.9343861937522888 1.5382510423660278 -1.7961348295211792 ...\n",
      "   2.39432954788208 0.2502412497997284 'S']]]\n",
      "['1 ' '2 ' '3 ' '4 ' '5 ' '6 ' '7 ' '8 ' '9 ' '10 ' '11 ' '12 ' '13 '\n",
      " '14 ' '15 ' '16 ' '17 ' '18 ' '19 ' '20 ' '21 ' '22 ' '23 ' '24 ' '25 '\n",
      " '26 ' '27 ' '28 ' '29 ' '30 ' '31 ' '32 ' '33 ' '34 ' '35 ' '36 ' '37 '\n",
      " '38 ' '39 ' '40 ' '41 ' '42 ' '43 ' '44 ' '45 ' '46 ' '47 ' '48 ' '49 '\n",
      " '50 ' '51 ' '52 ' '53 ' '54 ' '55 ' '56 ' '57 ' '58 ' '59 ' '60 ' '61 '\n",
      " '62 ' '63 ' '64 ' '65 ' '66 ' '67 ' '68 ' '69 ' '70 ' '71 ' '72 ' '73 '\n",
      " '74 ' '75 ' '76 ' '77 ' '78 ' '79 ' '80 ' '81 ' '82 ' '83 ' '84 ' '85 '\n",
      " '86 ' '87 ' '88 ' '89 ' '90 ' '91 ' '92 ' '93 ' '94 ' '95 ' '96 ' '97 '\n",
      " '98 ' '99 ' '100 ' '101 ' '102 ' '103 ' '104 ' '105 ' '106 ' '107 '\n",
      " '108 ' '109 ' '110 ' '111 ' '112A' '112 ' '113 ' '114 ' '115 ' '116 '\n",
      " '117 ' '118 ' '119 ' '120 ' '121 ' '122 ' '123 ' '124 ' '125 ' '126 '\n",
      " '127 ' '128 ']\n"
     ]
    }
   ],
   "source": [
    "seqs = [\n",
    "    'EVQLVESGPGLVQPGKSLRLSCVASGFTFSGYGMHWVRQAPGKGLEWIALIIYDESNKYYADSVKGRFTISRDNSKNTLYLQMSSLRAEDTAVFYCAKVKFYDPTAPNDYWGQGTLVTVSS',\n",
    "    'QVQLVQSGAEVKKPGASVKVSCKASGYTFTSYGISWVRQAPGQGLEWMGWISAYNGNTNYAQKLQGRVTMTTDTSTSTAYMELRSLRSDDTAVYYCARVLGWGSMDVWGQGTTVTVSS'\n",
    "    ]\n",
    "\n",
    "rescodings = heavy_ablang(seqs, mode='rescoding', align=True)\n",
    "\n",
    "print(\"-\"*100)\n",
    "print(\"The output shape for the aligned sequences ('aligned_embeds'):\", rescodings[0].aligned_embeds.shape)\n",
    "print(\"This output also includes this numberings ('number_alignment') used for this set of sequences.\")\n",
    "print(\"-\"*100)\n",
    "print(rescodings[0].aligned_embeds)\n",
    "print(rescodings[0].number_alignment)"
   ]
  },
  {
   "cell_type": "markdown",
   "id": "d6450ffe-656e-45d7-979a-cac5694249ea",
   "metadata": {},
   "source": [
    "---------\n",
    "## **AbLang module: Seq-codings**\n",
    "\n",
    "Seq-codings are a set of 768 values for each sequences, derived from averaging across the res-codings. Seq-codings allow one to avoid sequence alignments, as every antibody sequence, regardless of their length, will be represented with 768 values. "
   ]
  },
  {
   "cell_type": "code",
   "execution_count": 8,
   "id": "2948c411-8b5e-41fe-86bc-1c22969ce8e7",
   "metadata": {},
   "outputs": [
    {
     "name": "stdout",
     "output_type": "stream",
     "text": [
      "----------------------------------------------------------------------------------------------------\n",
      "The output shape of the seq-codings: (2, 768)\n",
      "----------------------------------------------------------------------------------------------------\n",
      "[[-0.66159597  0.13918797 -0.97155616 ... -0.94305375  0.11071647\n",
      "   0.72706918]\n",
      " [-0.48282028  0.16598192 -0.56525127 ...  0.13565184  0.0851997\n",
      "   0.80196542]]\n"
     ]
    }
   ],
   "source": [
    "seqs = [\n",
    "    'EVQLVESGPGLVQPGKSLRLSCVASGFTFSGYGMHWVRQAPGKGLEWIALIIYDESNKYYADSVKGRFTISRDNSKNTLYLQMSSLRAEDTAVFYCAKVKFYDPTAPNDYWGQGTLVTVSS',\n",
    "    'QVQLVQSGAEVKKPGASVKVSCKASGYTFTSYGISWVRQAPGQGLEWMGWISAYNGNTNYAQKLQGRVTMTTDTSTSTAYMELRSLRSDDTAVYYCARVLGWGSMDVWGQGTTVTVSS'\n",
    "    ]\n",
    "\n",
    "seqcodings = heavy_ablang(seqs, mode='seqcoding')\n",
    "print(\"-\"*100)\n",
    "print(\"The output shape of the seq-codings:\", seqcodings.shape)\n",
    "print(\"-\"*100)\n",
    "\n",
    "print(seqcodings)"
   ]
  },
  {
   "cell_type": "markdown",
   "id": "3b894760-444b-459b-9d61-1626e85d9777",
   "metadata": {},
   "source": [
    "-----\n",
    "## **AbLang module: Residue likelihood**\n",
    "\n",
    "Res- and seq-codings are both derived from the representations created by AbRep. Another interesting representation are the likelihoods created by AbHead. These values are the likelihoods of each amino acids at each position in the sequence. These can be used to explore which amino acids are most likely to be mutated into and thereby explore the mutational space.\n",
    "\n",
    "**NB:** Currently, the likelihoods includes the start and end tokens and padding."
   ]
  },
  {
   "cell_type": "code",
   "execution_count": 9,
   "id": "a32b9b0c-df44-44b4-9492-b3b2bcd3abcc",
   "metadata": {},
   "outputs": [
    {
     "name": "stdout",
     "output_type": "stream",
     "text": [
      "----------------------------------------------------------------------------------------------------\n",
      "The output shape with paddings still there: (2, 123, 20)\n",
      "----------------------------------------------------------------------------------------------------\n",
      "[[[-0.11498421  1.1179807   1.1934879  ...  0.45755565 -0.72848666\n",
      "   -3.068036  ]\n",
      "  [-2.464817   -1.9716127   3.3576703  ... -2.3272204  -1.1907938\n",
      "   -4.0330477 ]\n",
      "  [ 2.9314642  -2.1880102  -3.6571255  ... -2.2125928  -2.5663288\n",
      "    1.6678787 ]\n",
      "  ...\n",
      "  [-5.845918   -3.40504    -1.579061   ...  1.7031232  -4.064082\n",
      "   -1.3621801 ]\n",
      "  [-6.0580072  -2.5351667  -3.9164515  ... -1.8216585  -3.6267085\n",
      "   -2.031465  ]\n",
      "  [ 2.3581345  -0.06876343  1.9812663  ... -2.0339162  -1.4751194\n",
      "   -1.2847601 ]]\n",
      "\n",
      " [[ 2.7258353   0.6690303  -0.5187334  ... -0.50959873 -1.5229917\n",
      "   -1.004743  ]\n",
      "  [-1.2000117   0.7463537   4.91817    ... -2.7072291  -0.76294684\n",
      "   -1.1908685 ]\n",
      "  [ 3.7377124  -3.533647   -4.2123537  ... -3.5040321  -1.6032338\n",
      "    1.0644863 ]\n",
      "  ...\n",
      "  [-0.45430052  3.8572211  -3.057162   ... -2.6384826  -4.9668407\n",
      "   -3.8441544 ]\n",
      "  [-0.45430052  3.8572211  -3.057162   ... -2.6384826  -4.9668407\n",
      "   -3.8441544 ]\n",
      "  [-0.45430076  3.8572223  -3.0571613  ... -2.638483   -4.9668393\n",
      "   -3.8441527 ]]]\n"
     ]
    }
   ],
   "source": [
    "seqs = [\n",
    "    'EVQLVESGPGLVQPGKSLRLSCVASGFTFSGYGMHWVRQAPGKGLEWIALIIYDESNKYYADSVKGRFTISRDNSKNTLYLQMSSLRAEDTAVFYCAKVKFYDPTAPNDYWGQGTLVTVSS',\n",
    "    'QVQLVQSGAEVKKPGASVKVSCKASGYTFTSYGISWVRQAPGQGLEWMGWISAYNGNTNYAQKLQGRVTMTTDTSTSTAYMELRSLRSDDTAVYYCARVLGWGSMDVWGQGTTVTVSS'\n",
    "    ]\n",
    "\n",
    "likelihoods = heavy_ablang(seqs, mode='likelihood')\n",
    "print(\"-\"*100)\n",
    "print(\"The output shape with paddings still there:\", likelihoods.shape)\n",
    "print(\"-\"*100)\n",
    "print(likelihoods)"
   ]
  },
  {
   "cell_type": "markdown",
   "id": "ae4f1450-a315-4398-9f24-82ad6341e7ff",
   "metadata": {},
   "source": [
    "### The corresponding amino acids for each likelihood\n",
    "\n",
    "For each position the likelihood for each of the 20 amino acids are returned. The amino acid order can be found by looking at the ablang vocabulary. For this output the likelihoods for '<', '-', '>' and '\\*' have been removed."
   ]
  },
  {
   "cell_type": "code",
   "execution_count": 10,
   "id": "44501d7b-a688-4ee4-a58b-b27a859b5ae1",
   "metadata": {},
   "outputs": [
    {
     "data": {
      "text/plain": [
       "{0: '<',\n",
       " 21: '-',\n",
       " 22: '>',\n",
       " 23: '*',\n",
       " 1: 'M',\n",
       " 2: 'R',\n",
       " 3: 'H',\n",
       " 4: 'K',\n",
       " 5: 'D',\n",
       " 6: 'E',\n",
       " 7: 'S',\n",
       " 8: 'T',\n",
       " 9: 'N',\n",
       " 10: 'Q',\n",
       " 11: 'C',\n",
       " 12: 'G',\n",
       " 13: 'P',\n",
       " 14: 'A',\n",
       " 15: 'V',\n",
       " 16: 'I',\n",
       " 17: 'F',\n",
       " 18: 'Y',\n",
       " 19: 'W',\n",
       " 20: 'L'}"
      ]
     },
     "execution_count": 10,
     "metadata": {},
     "output_type": "execute_result"
    }
   ],
   "source": [
    "ablang_vocab = heavy_ablang.tokenizer.vocab_to_aa\n",
    "ablang_vocab"
   ]
  },
  {
   "cell_type": "markdown",
   "id": "bbae47e3-a538-4acb-9dec-4cd5888eead3",
   "metadata": {},
   "source": [
    "-----\n",
    "## **AbLang module: Antibody sequence restoration**\n",
    "\n",
    "In some cases, an antibody sequence is missing some residues. This could be derived from sequencing errors or limitations of current sequencing methods. To solve this AbLang has the \"restore\" mode, as seen below, which picks the amino acid with the highest likelihood for residues marked with an asterisk (*). "
   ]
  },
  {
   "cell_type": "code",
   "execution_count": 11,
   "id": "9ae30059-650a-4b18-b98f-b29d511420ec",
   "metadata": {},
   "outputs": [
    {
     "name": "stdout",
     "output_type": "stream",
     "text": [
      "----------------------------------------------------------------------------------------------------\n",
      "Restoration of masked residues.\n",
      "----------------------------------------------------------------------------------------------------\n",
      "['EVQLVESGPGLVQPGKSLRLSCVASGFTFSGYGMHWVRQAPGKGLEWIALIIYDESNKYYADSVKGRFTISRDNSKNTLYLQMSSLRAEDTAVFYCAKVKFYDPTAPNDYWGQGTLVTVSS'\n",
      " 'QVQLVESGGGVVQPGKSLRLSCVASGFTFSGYGMHWVRQAPGKGLEWIALIIYDESNKYYADSVKGRFTISRDNSKNTLYLQMSSLRAEDTAVFYCAKVKFYDPTAPNDYWGQGTLVTVSS']\n"
     ]
    }
   ],
   "source": [
    "seqs = [\n",
    "    'EV*LVESGPGLVQPGKSLRLSCVASGFTFSGYGMHWVRQAPGKGLEWIALIIYDESNKYYADSVKGRFTISRDNSKNTLYLQMSSLRAEDTAVFYCAKVKFYDPTAPNDYWGQGTLVTVSS',\n",
    "    '*************PGKSLRLSCVASGFTFSGYGMHWVRQAPGKGLEWIALIIYDESNK*YADSVKGRFTISRDNSKNTLYLQMSSLRAEDTAVFYCAKVKFYDPTAPNDYWGQGTL*****',\n",
    "]\n",
    "\n",
    "print(\"-\"*100)\n",
    "print(\"Restoration of masked residues.\")\n",
    "print(\"-\"*100)\n",
    "print(heavy_ablang(seqs, mode='restore'))"
   ]
  },
  {
   "cell_type": "markdown",
   "id": "e96460ad-1b28-4231-8a54-fc661b7c8812",
   "metadata": {},
   "source": [
    "In cases where sequences are missing unknown lengths at the ends, we can use the \"align=True\" argument."
   ]
  },
  {
   "cell_type": "code",
   "execution_count": 12,
   "id": "37c9487a-a2f1-49f1-9eaf-86094c239cb2",
   "metadata": {},
   "outputs": [
    {
     "name": "stdout",
     "output_type": "stream",
     "text": [
      "----------------------------------------------------------------------------------------------------\n",
      "Restoration of masked residues and unknown missing end lengths.\n",
      "----------------------------------------------------------------------------------------------------\n",
      "['EVQLVESGPGLVQPGKSLRLSCVASGFTFSGYGMHWVRQAPGKGLEWIALIIYDESNKYYADSVKGRFTISRDNSKNTLYLQMSSLRAEDTAVFYCAKVKFYDPTAPNDYWGQGTLVTVSS'\n",
      " 'QVQLVESGGGVVQPGKSLRLSCVASGFTFSGYGMHWVRQAPGKGLEWIALIIYDESNKYYADSVKGRFTISRDNSKNTLYLQMSSLRAEDTAVFYCAKVKFYDPTAPNDYWGQGTLVTVSS']\n"
     ]
    }
   ],
   "source": [
    "seqs = [\n",
    "    'EV*LVESGPGLVQPGKSLRLSCVASGFTFSGYGMHWVRQAPGKGLEWIALIIYDESNKYYADSVKGRFTISRDNSKNTLYLQMSSLRAEDTAVFYCAKVKFYDPTAPNDYWGQGTLVTVSS',\n",
    "    'PGKSLRLSCVASGFTFSGYGMHWVRQAPGKGLEWIALIIYDESNK*YADSVKGRFTISRDNSKNTLYLQMSSLRAEDTAVFYCAKVKFYDPTAPNDYWGQGTL',\n",
    "]\n",
    "\n",
    "print(\"-\"*100)\n",
    "print(\"Restoration of masked residues and unknown missing end lengths.\")\n",
    "print(\"-\"*100)\n",
    "print(heavy_ablang(seqs, mode='restore', align=True))"
   ]
  }
 ],
 "metadata": {
  "kernelspec": {
   "display_name": "Python [conda env:ablang-test]",
   "language": "python",
   "name": "conda-env-ablang-test-py"
  },
  "language_info": {
   "codemirror_mode": {
    "name": "ipython",
    "version": 3
   },
   "file_extension": ".py",
   "mimetype": "text/x-python",
   "name": "python",
   "nbconvert_exporter": "python",
   "pygments_lexer": "ipython3",
   "version": "3.10.8"
  }
 },
 "nbformat": 4,
 "nbformat_minor": 5
}
